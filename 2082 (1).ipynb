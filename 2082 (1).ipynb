{
 "cells": [
  {
   "cell_type": "code",
   "execution_count": 7,
   "id": "bd37c1ea-f009-447a-b693-f1028cb42da9",
   "metadata": {},
   "outputs": [],
   "source": [
    "import numpy as np\n",
    "import pandas as pd\n",
    "from pandas import Series, DataFrame\n",
    "import seaborn as sns\n",
    "import matplotlib.pyplot as plt\n",
    "%matplotlib inline\n",
    "import pylab\n",
    "from pylab import rcParams\n",
    "import statsmodels.api as sm\n",
    "import statistics\n",
    "from scipy import stats\n",
    "import sklearn\n",
    "from sklearn import preprocessing\n",
    "from sklearn.linear_model import LinearRegression\n",
    "from sklearn.model_selection import train_test_split\n",
    "from sklearn import metrics\n",
    "from sklearn.metrics import classification_report\n",
    "from scipy.stats import chisquare\n",
    "from scipy.stats import chi2_contingency"
   ]
  },
  {
   "cell_type": "code",
   "execution_count": 8,
   "id": "0c8bd5f1-e8cc-42b9-915e-aa6a691c2ca3",
   "metadata": {},
   "outputs": [],
   "source": [
    "df=pd.read_csv(r'C:\\Users\\danie\\OneDrive\\Desktop\\WGU\\208 Final\\churn_prepared.xls')"
   ]
  },
  {
   "cell_type": "code",
   "execution_count": 9,
   "id": "4b68dc05-818c-40f7-8e62-6f5322dfcb0a",
   "metadata": {},
   "outputs": [
    {
     "name": "stdout",
     "output_type": "stream",
     "text": [
      "Unnamed: 0           False\n",
      "CaseOrder            False\n",
      "Customer_id          False\n",
      "Interaction          False\n",
      "UID                  False\n",
      "Children             False\n",
      "Age                  False\n",
      "Income               False\n",
      "Gender               False\n",
      "Churn                False\n",
      "StreamingTV          False\n",
      "Bandwidth_GB_Year    False\n",
      "dtype: bool\n"
     ]
    }
   ],
   "source": [
    "nulls = df.isnull().any()\n",
    "print(nulls)"
   ]
  },
  {
   "cell_type": "code",
   "execution_count": 10,
   "id": "fa6fd3b5-9c65-4483-b4fa-334966fa1b9c",
   "metadata": {},
   "outputs": [
    {
     "data": {
      "text/html": [
       "<div>\n",
       "<style scoped>\n",
       "    .dataframe tbody tr th:only-of-type {\n",
       "        vertical-align: middle;\n",
       "    }\n",
       "\n",
       "    .dataframe tbody tr th {\n",
       "        vertical-align: top;\n",
       "    }\n",
       "\n",
       "    .dataframe thead th {\n",
       "        text-align: right;\n",
       "    }\n",
       "</style>\n",
       "<table border=\"1\" class=\"dataframe\">\n",
       "  <thead>\n",
       "    <tr style=\"text-align: right;\">\n",
       "      <th></th>\n",
       "      <th>Unnamed: 0</th>\n",
       "      <th>CaseOrder</th>\n",
       "      <th>Children</th>\n",
       "      <th>Age</th>\n",
       "      <th>Income</th>\n",
       "      <th>Bandwidth_GB_Year</th>\n",
       "    </tr>\n",
       "  </thead>\n",
       "  <tbody>\n",
       "    <tr>\n",
       "      <th>count</th>\n",
       "      <td>9960.000000</td>\n",
       "      <td>9960.000000</td>\n",
       "      <td>9960.000000</td>\n",
       "      <td>9960.000000</td>\n",
       "      <td>9960.000000</td>\n",
       "      <td>9960.000000</td>\n",
       "    </tr>\n",
       "    <tr>\n",
       "      <th>mean</th>\n",
       "      <td>5000.381426</td>\n",
       "      <td>5001.381426</td>\n",
       "      <td>2.088454</td>\n",
       "      <td>53.097892</td>\n",
       "      <td>39262.204328</td>\n",
       "      <td>3392.463974</td>\n",
       "    </tr>\n",
       "    <tr>\n",
       "      <th>std</th>\n",
       "      <td>2886.590495</td>\n",
       "      <td>2886.590495</td>\n",
       "      <td>2.147374</td>\n",
       "      <td>20.701925</td>\n",
       "      <td>26860.817188</td>\n",
       "      <td>2185.217038</td>\n",
       "    </tr>\n",
       "    <tr>\n",
       "      <th>min</th>\n",
       "      <td>0.000000</td>\n",
       "      <td>1.000000</td>\n",
       "      <td>0.000000</td>\n",
       "      <td>18.000000</td>\n",
       "      <td>348.670000</td>\n",
       "      <td>155.506715</td>\n",
       "    </tr>\n",
       "    <tr>\n",
       "      <th>25%</th>\n",
       "      <td>2499.750000</td>\n",
       "      <td>2500.750000</td>\n",
       "      <td>0.000000</td>\n",
       "      <td>35.000000</td>\n",
       "      <td>19167.297500</td>\n",
       "      <td>1236.063469</td>\n",
       "    </tr>\n",
       "    <tr>\n",
       "      <th>50%</th>\n",
       "      <td>5000.500000</td>\n",
       "      <td>5001.500000</td>\n",
       "      <td>1.000000</td>\n",
       "      <td>53.000000</td>\n",
       "      <td>33028.830000</td>\n",
       "      <td>3287.404961</td>\n",
       "    </tr>\n",
       "    <tr>\n",
       "      <th>75%</th>\n",
       "      <td>7500.250000</td>\n",
       "      <td>7501.250000</td>\n",
       "      <td>3.000000</td>\n",
       "      <td>71.000000</td>\n",
       "      <td>52921.635000</td>\n",
       "      <td>5585.644211</td>\n",
       "    </tr>\n",
       "    <tr>\n",
       "      <th>max</th>\n",
       "      <td>9999.000000</td>\n",
       "      <td>10000.000000</td>\n",
       "      <td>10.000000</td>\n",
       "      <td>89.000000</td>\n",
       "      <td>152172.920000</td>\n",
       "      <td>7158.981530</td>\n",
       "    </tr>\n",
       "  </tbody>\n",
       "</table>\n",
       "</div>"
      ],
      "text/plain": [
       "        Unnamed: 0     CaseOrder     Children          Age         Income  \\\n",
       "count  9960.000000   9960.000000  9960.000000  9960.000000    9960.000000   \n",
       "mean   5000.381426   5001.381426     2.088454    53.097892   39262.204328   \n",
       "std    2886.590495   2886.590495     2.147374    20.701925   26860.817188   \n",
       "min       0.000000      1.000000     0.000000    18.000000     348.670000   \n",
       "25%    2499.750000   2500.750000     0.000000    35.000000   19167.297500   \n",
       "50%    5000.500000   5001.500000     1.000000    53.000000   33028.830000   \n",
       "75%    7500.250000   7501.250000     3.000000    71.000000   52921.635000   \n",
       "max    9999.000000  10000.000000    10.000000    89.000000  152172.920000   \n",
       "\n",
       "       Bandwidth_GB_Year  \n",
       "count        9960.000000  \n",
       "mean         3392.463974  \n",
       "std          2185.217038  \n",
       "min           155.506715  \n",
       "25%          1236.063469  \n",
       "50%          3287.404961  \n",
       "75%          5585.644211  \n",
       "max          7158.981530  "
      ]
     },
     "execution_count": 10,
     "metadata": {},
     "output_type": "execute_result"
    }
   ],
   "source": [
    "df.describe()"
   ]
  },
  {
   "cell_type": "code",
   "execution_count": 11,
   "id": "f3e2aca6-0e63-4775-9216-44efb75b89c5",
   "metadata": {},
   "outputs": [],
   "source": [
    "df['gender_dummy'] = [1 if v == 'Female' else 0 for v in df['Gender']]\n",
    "df['churn_dummy'] = [1 if v == 'Yes' else 0 for v in df['Churn']]"
   ]
  },
  {
   "cell_type": "code",
   "execution_count": 13,
   "id": "c529e0b1-8c25-4cda-9c9d-662d55a0eba7",
   "metadata": {},
   "outputs": [
    {
     "name": "stdout",
     "output_type": "stream",
     "text": [
      "      Unnamed: 0  CaseOrder Customer_id                           Interaction  \\\n",
      "0              0          1     K409198  aa90260b-4141-4a24-8e36-b04ce1f4f77b   \n",
      "1              1          2     S120509  fb76459f-c047-4a9d-8af9-e0f7d4ac2524   \n",
      "2              2          3     K191035  344d114c-3736-4be5-98f7-c72c281e2d35   \n",
      "3              3          4      D90850  abfa2b40-2d43-4994-b15a-989b8c79e311   \n",
      "4              4          5     K662701  68a861fd-0d20-4e51-a587-8a90407ee574   \n",
      "...          ...        ...         ...                                   ...   \n",
      "9955        9995       9996     M324793  45deb5a2-ae04-4518-bf0b-c82db8dbe4a4   \n",
      "9956        9996       9997     D861732  6e96b921-0c09-4993-bbda-a1ac6411061a   \n",
      "9957        9997       9998     I243405  e8307ddf-9a01-4fff-bc59-4742e03fd24f   \n",
      "9958        9998       9999     I641617  3775ccfc-0052-4107-81ae-9657f81ecdf3   \n",
      "9959        9999      10000      T38070  9de5fb6e-bd33-4995-aec8-f01d0172a499   \n",
      "\n",
      "                                   UID  Children  Age    Income  Gender Churn  \\\n",
      "0     e885b299883d4f9fb18e39c75155d990         0   68  28561.99    Male    No   \n",
      "1     f2de8bef964785f41a2959829830fb8a         1   27  21704.77  Female   Yes   \n",
      "2     f1784cfa9f6d92ae816197eb175d3c71         4   50   9609.57  Female    No   \n",
      "3     dc8a365077241bb5cd5ccd305136b05e         1   48  18925.23    Male    No   \n",
      "4     aabb64a116e83fdc4befc1fbab1663f9         0   83  40074.19    Male   Yes   \n",
      "...                                ...       ...  ...       ...     ...   ...   \n",
      "9955  9499fb4de537af195d16d046b79fd20a         3   23  55723.74    Male    No   \n",
      "9956  c09a841117fa81b5c8e19afec2760104         4   48  34129.34    Male    No   \n",
      "9957  9c41f212d1e04dca84445019bbc9b41c         1   48  45983.43  Female    No   \n",
      "9958  3e1f269b40c235a1038863ecf6b7a0df         1   39  16667.58    Male    No   \n",
      "9959  0ea683a03a3cd544aefe8388aab16176         1   28   9020.92    Male    No   \n",
      "\n",
      "     StreamingTV  Bandwidth_GB_Year  gender_dummy  churn_dummy  \n",
      "0             No         904.536110             0            0  \n",
      "1            Yes         800.982766             1            1  \n",
      "2             No        2054.706961             1            0  \n",
      "3            Yes        2164.579412             0            0  \n",
      "4            Yes         271.493436             0            1  \n",
      "...          ...                ...           ...          ...  \n",
      "9955          No        6511.252601             0            0  \n",
      "9956         Yes        5695.951810             0            0  \n",
      "9957          No        4159.305799             1            0  \n",
      "9958         Yes        6468.456752             0            0  \n",
      "9959          No        5857.586167             0            0  \n",
      "\n",
      "[9960 rows x 14 columns]\n"
     ]
    }
   ],
   "source": [
    "print(df)"
   ]
  },
  {
   "cell_type": "code",
   "execution_count": 14,
   "id": "a9651706-70a2-46ec-82c9-dc722e7eca8b",
   "metadata": {},
   "outputs": [
    {
     "data": {
      "image/png": "[encoded data removed]",
      "text/plain": [
       "<Figure size 432x288 with 4 Axes>"
      ]
     },
     "metadata": {
      "needs_background": "light"
     },
     "output_type": "display_data"
    }
   ],
   "source": [
    "df[['Children', 'Age', 'Income','Bandwidth_GB_Year']].hist()\n",
    "plt.tight_layout()"
   ]
  },
  {
   "cell_type": "code",
   "execution_count": 15,
   "id": "4f3495d6-62c6-4d49-8b69-210f7bb82467",
   "metadata": {},
   "outputs": [
    {
     "data": {
      "image/png": "[encoded data removed]",
      "text/plain": [
       "<Figure size 432x288 with 1 Axes>"
      ]
     },
     "metadata": {
      "needs_background": "light"
     },
     "output_type": "display_data"
    }
   ],
   "source": [
    "sns.scatterplot(x=df['Income'], y= df['churn_dummy'], color='blue')\n",
    "plt.show();"
   ]
  },
  {
   "cell_type": "code",
   "execution_count": null,
   "id": "7bdd7c14-502f-4f21-a110-9d2debd31f20",
   "metadata": {},
   "outputs": [],
   "source": []
  },
  {
   "cell_type": "code",
   "execution_count": 16,
   "id": "ec249aeb-f46d-4361-a5ab-7cab4e7caaaa",
   "metadata": {},
   "outputs": [
    {
     "data": {
      "image/png": "[encoded data removed]",
      "text/plain": [
       "<Figure size 432x288 with 1 Axes>"
      ]
     },
     "metadata": {
      "needs_background": "light"
     },
     "output_type": "display_data"
    }
   ],
   "source": [
    "sns.scatterplot(x=df['Bandwidth_GB_Year'], y= df['churn_dummy'], color='blue')\n",
    "plt.show();"
   ]
  },
  {
   "cell_type": "code",
   "execution_count": 17,
   "id": "62a31a52-b4c6-4254-8b39-79ec1d57cb20",
   "metadata": {},
   "outputs": [],
   "source": [
    "df['Intercept'] = 1\n"
   ]
  },
  {
   "cell_type": "code",
   "execution_count": 18,
   "id": "af914372-6303-4b2e-aa92-6d9c4bf5012f",
   "metadata": {},
   "outputs": [
    {
     "name": "stdout",
     "output_type": "stream",
     "text": [
      "Optimization terminated successfully.\n",
      "         Current function value: 0.468881\n",
      "         Iterations 6\n",
      "                           Logit Regression Results                           \n",
      "==============================================================================\n",
      "Dep. Variable:            churn_dummy   No. Observations:                 9960\n",
      "Model:                          Logit   Df Residuals:                     9954\n",
      "Method:                           MLE   Df Model:                            5\n",
      "Date:                Sat, 19 Nov 2022   Pseudo R-squ.:                  0.1883\n",
      "Time:                        20:41:32   Log-Likelihood:                -4670.1\n",
      "converged:                       True   LL-Null:                       -5753.6\n",
      "Covariance Type:            nonrobust   LLR p-value:                     0.000\n",
      "=====================================================================================\n",
      "                        coef    std err          z      P>|z|      [0.025      0.975]\n",
      "-------------------------------------------------------------------------------------\n",
      "Children              0.0089      0.012      0.747      0.455      -0.014       0.032\n",
      "Age               -6.414e-05      0.001     -0.052      0.958      -0.002       0.002\n",
      "Income             4.368e-07   9.48e-07      0.461      0.645   -1.42e-06    2.29e-06\n",
      "Bandwidth_GB_Year    -0.0006   1.47e-05    -39.047      0.000      -0.001      -0.001\n",
      "gender_dummy         -0.1582      0.051     -3.108      0.002      -0.258      -0.058\n",
      "Intercept             0.6011      0.093      6.485      0.000       0.419       0.783\n",
      "=====================================================================================\n"
     ]
    }
   ],
   "source": [
    "#Logistic Regression Model #!\n",
    "\n",
    "log_reg_results = sm.Logit(df['churn_dummy'], df[['Children', 'Age', 'Income', 'Bandwidth_GB_Year','gender_dummy', 'Intercept']]).fit()\n",
    "print (log_reg_results.summary())\n"
   ]
  },
  {
   "cell_type": "code",
   "execution_count": 19,
   "id": "59c57bee-b41a-4e1d-b70d-3ad5e63b2dbc",
   "metadata": {},
   "outputs": [
    {
     "name": "stdout",
     "output_type": "stream",
     "text": [
      "Optimization terminated successfully.\n",
      "         Current function value: 0.468920\n",
      "         Iterations 6\n",
      "                           Logit Regression Results                           \n",
      "==============================================================================\n",
      "Dep. Variable:            churn_dummy   No. Observations:                 9960\n",
      "Model:                          Logit   Df Residuals:                     9957\n",
      "Method:                           MLE   Df Model:                            2\n",
      "Date:                Sat, 19 Nov 2022   Pseudo R-squ.:                  0.1883\n",
      "Time:                        20:41:37   Log-Likelihood:                -4670.4\n",
      "converged:                       True   LL-Null:                       -5753.6\n",
      "Covariance Type:            nonrobust   LLR p-value:                     0.000\n",
      "=====================================================================================\n",
      "                        coef    std err          z      P>|z|      [0.025      0.975]\n",
      "-------------------------------------------------------------------------------------\n",
      "Bandwidth_GB_Year    -0.0006   1.46e-05    -39.055      0.000      -0.001      -0.001\n",
      "gender_dummy         -0.1579      0.051     -3.103      0.002      -0.258      -0.058\n",
      "Intercept             0.6324      0.048     13.151      0.000       0.538       0.727\n",
      "=====================================================================================\n"
     ]
    }
   ],
   "source": [
    "#Logistic Regression Reduced Model #2\n",
    "log_reg_results = sm.Logit(df['churn_dummy'], df[['Bandwidth_GB_Year','gender_dummy', 'Intercept']]).fit()\n",
    "print (log_reg_results.summary())\n"
   ]
  },
  {
   "cell_type": "code",
   "execution_count": null,
   "id": "54dbb86f-7335-4eed-b473-989b992d1172",
   "metadata": {},
   "outputs": [],
   "source": []
  }
 ],
 "metadata": {
  "kernelspec": {
   "display_name": "Python 3 (ipykernel)",
   "language": "python",
   "name": "python3"
  },
  "language_info": {
   "codemirror_mode": {
    "name": "ipython",
    "version": 3
   },
   "file_extension": ".py",
   "mimetype": "text/x-python",
   "name": "python",
   "nbconvert_exporter": "python",
   "pygments_lexer": "ipython3",
   "version": "3.9.12"
  }
 },
 "nbformat": 4,
 "nbformat_minor": 5
}
